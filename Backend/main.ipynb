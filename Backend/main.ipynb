{
 "cells": [
  {
   "cell_type": "code",
   "execution_count": 2,
   "metadata": {},
   "outputs": [],
   "source": [
    "from skimage.io import imread,imshow\n",
    "from skimage.color import rgb2gray,gray2rgb\n",
    "from scipy import signal as sig\n",
    "import numpy as np\n",
    "import cv2"
   ]
  },
  {
   "cell_type": "code",
   "execution_count": 15,
   "metadata": {},
   "outputs": [
    {
     "data": {
      "text/plain": [
       "<matplotlib.image.AxesImage at 0x7f85c28486d8>"
      ]
     },
     "execution_count": 15,
     "metadata": {},
     "output_type": "execute_result"
    },
    {
     "data": {
      "image/png": "[encoded data removed]",
      "text/plain": [
       "<Figure size 432x288 with 1 Axes>"
      ]
     },
     "metadata": {
      "needs_background": "light"
     },
     "output_type": "display_data"
    }
   ],
   "source": [
    "img = imread('map.png',as_gray = False)\n",
    "imshow(img)"
   ]
  },
  {
   "cell_type": "code",
   "execution_count": 45,
   "metadata": {},
   "outputs": [
    {
     "data": {
      "text/plain": [
       "<matplotlib.image.AxesImage at 0x7f85c1e4a048>"
      ]
     },
     "execution_count": 45,
     "metadata": {},
     "output_type": "execute_result"
    },
    {
     "data": {
      "image/png": "[encoded data removed]",
      "text/plain": [
       "<Figure size 432x288 with 1 Axes>"
      ]
     },
     "metadata": {
      "needs_background": "light"
     },
     "output_type": "display_data"
    }
   ],
   "source": [
    "layer = img.copy()\n",
    "coord = [\n",
    "    (200,630),\n",
    "    (300,580),\n",
    "    (500,450),\n",
    "    (700,590),\n",
    "    (500,630),\n",
    "    (835,450),\n",
    "    (835,300),\n",
    "    (650,200)\n",
    "]\n",
    "color = (255,0,0)\n",
    "for x,y in coords:\n",
    "    cv2.circle(layer,(x,y), 5, color, thickness=5) \n",
    "imshow(layer)"
   ]
  },
  {
   "cell_type": "code",
   "execution_count": 46,
   "metadata": {},
   "outputs": [],
   "source": [
    "from collections import deque, namedtuple\n",
    "\n",
    "\n",
    "# we'll use infinity as a default distance to nodes.\n",
    "inf = float('inf')\n",
    "Edge = namedtuple('Edge', 'start, end, cost')\n",
    "\n",
    "\n",
    "def make_edge(start, end, cost=1):\n",
    "  return Edge(start, end, cost)\n",
    "\n",
    "\n",
    "class Graph:\n",
    "    def __init__(self, edges):\n",
    "        # let's check that the data is right\n",
    "        wrong_edges = [i for i in edges if len(i) not in [2, 3]]\n",
    "        if wrong_edges:\n",
    "            raise ValueError('Wrong edges data: {}'.format(wrong_edges))\n",
    "\n",
    "        self.edges = [make_edge(*edge) for edge in edges]\n",
    "\n",
    "    @property\n",
    "    def vertices(self):\n",
    "        return set(\n",
    "            sum(\n",
    "                ([edge.start, edge.end] for edge in self.edges), []\n",
    "            )\n",
    "        )\n",
    "\n",
    "    def get_node_pairs(self, n1, n2, both_ends=True):\n",
    "        if both_ends:\n",
    "            node_pairs = [[n1, n2], [n2, n1]]\n",
    "        else:\n",
    "            node_pairs = [[n1, n2]]\n",
    "        return node_pairs\n",
    "\n",
    "    def remove_edge(self, n1, n2, both_ends=True):\n",
    "        node_pairs = self.get_node_pairs(n1, n2, both_ends)\n",
    "        edges = self.edges[:]\n",
    "        for edge in edges:\n",
    "            if [edge.start, edge.end] in node_pairs:\n",
    "                self.edges.remove(edge)\n",
    "\n",
    "    def add_edge(self, n1, n2, cost=1, both_ends=True):\n",
    "        node_pairs = self.get_node_pairs(n1, n2, both_ends)\n",
    "        for edge in self.edges:\n",
    "            if [edge.start, edge.end] in node_pairs:\n",
    "                return ValueError('Edge {} {} already exists'.format(n1, n2))\n",
    "\n",
    "        self.edges.append(Edge(start=n1, end=n2, cost=cost))\n",
    "        if both_ends:\n",
    "            self.edges.append(Edge(start=n2, end=n1, cost=cost))\n",
    "\n",
    "    @property\n",
    "    def neighbours(self):\n",
    "        neighbours = {vertex: set() for vertex in self.vertices}\n",
    "        for edge in self.edges:\n",
    "            neighbours[edge.start].add((edge.end, edge.cost))\n",
    "\n",
    "        return neighbours\n",
    "\n",
    "    def dijkstra(self, source, dest):\n",
    "        assert source in self.vertices, 'Such source node doesn\\'t exist'\n",
    "        distances = {vertex: inf for vertex in self.vertices}\n",
    "        previous_vertices = {\n",
    "            vertex: None for vertex in self.vertices\n",
    "        }\n",
    "        distances[source] = 0\n",
    "        vertices = self.vertices.copy()\n",
    "\n",
    "        while vertices:\n",
    "            current_vertex = min(\n",
    "                vertices, key=lambda vertex: distances[vertex])\n",
    "            vertices.remove(current_vertex)\n",
    "            if distances[current_vertex] == inf:\n",
    "                break\n",
    "            for neighbour, cost in self.neighbours[current_vertex]:\n",
    "                alternative_route = distances[current_vertex] + cost\n",
    "                if alternative_route < distances[neighbour]:\n",
    "                    distances[neighbour] = alternative_route\n",
    "                    previous_vertices[neighbour] = current_vertex\n",
    "\n",
    "        path, current_vertex = deque(), dest\n",
    "        while previous_vertices[current_vertex] is not None:\n",
    "            path.appendleft(current_vertex)\n",
    "            current_vertex = previous_vertices[current_vertex]\n",
    "        if path:\n",
    "            path.appendleft(current_vertex)\n",
    "        return path\n"
   ]
  },
  {
   "cell_type": "code",
   "execution_count": 49,
   "metadata": {},
   "outputs": [],
   "source": [
    "graph = Graph([\n",
    "    (coord[0], coord[1], 3),  (coord[1], coord[2], 4),\n",
    "    (coord[2], coord[3], 1),(coord[3], coord[4], 6),\n",
    "    (coord[4], coord[5], 7),(coord[5], coord[6], 3)])\n",
    "\n",
    "out = graph.dijkstra(coord[0], coord[4])"
   ]
  },
  {
   "cell_type": "code",
   "execution_count": 58,
   "metadata": {},
   "outputs": [
    {
     "data": {
      "text/plain": [
       "<matplotlib.image.AxesImage at 0x7f85c1e285c0>"
      ]
     },
     "execution_count": 58,
     "metadata": {},
     "output_type": "execute_result"
    },
    {
     "data": {
      "image/png": "[encoded data removed]",
      "text/plain": [
       "<Figure size 432x288 with 1 Axes>"
      ]
     },
     "metadata": {
      "needs_background": "light"
     },
     "output_type": "display_data"
    }
   ],
   "source": [
    "for i in range(0, len(out)-1):\n",
    "#     print(out[i],out[i-1])\n",
    "    cv2.line(layer, out[i], out[i-1], (0,255,0), thickness=5, lineType=8, shift=0)\n",
    "imshow(layer)"
   ]
  },
  {
   "cell_type": "code",
   "execution_count": null,
   "metadata": {},
   "outputs": [],
   "source": []
  }
 ],
 "metadata": {
  "kernelspec": {
   "display_name": "Python 3",
   "language": "python",
   "name": "python3"
  },
  "language_info": {
   "codemirror_mode": {
    "name": "ipython",
    "version": 3
   },
   "file_extension": ".py",
   "mimetype": "text/x-python",
   "name": "python",
   "nbconvert_exporter": "python",
   "pygments_lexer": "ipython3",
   "version": "3.6.7"
  }
 },
 "nbformat": 4,
 "nbformat_minor": 2
}
